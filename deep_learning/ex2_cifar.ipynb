{
  "nbformat": 4,
  "nbformat_minor": 0,
  "metadata": {
    "colab": {
      "provenance": []
    },
    "kernelspec": {
      "display_name": "Python 3",
      "language": "python",
      "name": "python3"
    },
    "accelerator": "GPU",
    "widgets": {
      "application/vnd.jupyter.widget-state+json": {
        "3008cbec07cf4cd1aa47265ad7031ff5": {
          "model_module": "@jupyter-widgets/controls",
          "model_name": "HBoxModel",
          "model_module_version": "1.5.0",
          "state": {
            "_dom_classes": [],
            "_model_module": "@jupyter-widgets/controls",
            "_model_module_version": "1.5.0",
            "_model_name": "HBoxModel",
            "_view_count": null,
            "_view_module": "@jupyter-widgets/controls",
            "_view_module_version": "1.5.0",
            "_view_name": "HBoxView",
            "box_style": "",
            "children": [
              "IPY_MODEL_9d1bd10744f74c1e8a8dd087d0de00c8",
              "IPY_MODEL_235017b2a60f435bbb51c36d4814bf83",
              "IPY_MODEL_c7e5bb4c891d49fa9319e062735a2079"
            ],
            "layout": "IPY_MODEL_69f84417ccff4e75a88403b7b8d2f565"
          }
        },
        "9d1bd10744f74c1e8a8dd087d0de00c8": {
          "model_module": "@jupyter-widgets/controls",
          "model_name": "HTMLModel",
          "model_module_version": "1.5.0",
          "state": {
            "_dom_classes": [],
            "_model_module": "@jupyter-widgets/controls",
            "_model_module_version": "1.5.0",
            "_model_name": "HTMLModel",
            "_view_count": null,
            "_view_module": "@jupyter-widgets/controls",
            "_view_module_version": "1.5.0",
            "_view_name": "HTMLView",
            "description": "",
            "description_tooltip": null,
            "layout": "IPY_MODEL_188b5af0fcb64822aeee3b970f16612a",
            "placeholder": "​",
            "style": "IPY_MODEL_78a874100ef048afb79ed037132dbf4f",
            "value": "100%"
          }
        },
        "235017b2a60f435bbb51c36d4814bf83": {
          "model_module": "@jupyter-widgets/controls",
          "model_name": "FloatProgressModel",
          "model_module_version": "1.5.0",
          "state": {
            "_dom_classes": [],
            "_model_module": "@jupyter-widgets/controls",
            "_model_module_version": "1.5.0",
            "_model_name": "FloatProgressModel",
            "_view_count": null,
            "_view_module": "@jupyter-widgets/controls",
            "_view_module_version": "1.5.0",
            "_view_name": "ProgressView",
            "bar_style": "success",
            "description": "",
            "description_tooltip": null,
            "layout": "IPY_MODEL_81ee614fb0b24500867b76ae6a1ff152",
            "max": 170498071,
            "min": 0,
            "orientation": "horizontal",
            "style": "IPY_MODEL_7958c48a7bae4dfa9669b7cb9015e7c4",
            "value": 170498071
          }
        },
        "c7e5bb4c891d49fa9319e062735a2079": {
          "model_module": "@jupyter-widgets/controls",
          "model_name": "HTMLModel",
          "model_module_version": "1.5.0",
          "state": {
            "_dom_classes": [],
            "_model_module": "@jupyter-widgets/controls",
            "_model_module_version": "1.5.0",
            "_model_name": "HTMLModel",
            "_view_count": null,
            "_view_module": "@jupyter-widgets/controls",
            "_view_module_version": "1.5.0",
            "_view_name": "HTMLView",
            "description": "",
            "description_tooltip": null,
            "layout": "IPY_MODEL_720a621c625c4c6086e7eacff3235017",
            "placeholder": "​",
            "style": "IPY_MODEL_337711d32bd0449ab026223dd35db445",
            "value": " 170498071/170498071 [00:13&lt;00:00, 14337440.48it/s]"
          }
        },
        "69f84417ccff4e75a88403b7b8d2f565": {
          "model_module": "@jupyter-widgets/base",
          "model_name": "LayoutModel",
          "model_module_version": "1.2.0",
          "state": {
            "_model_module": "@jupyter-widgets/base",
            "_model_module_version": "1.2.0",
            "_model_name": "LayoutModel",
            "_view_count": null,
            "_view_module": "@jupyter-widgets/base",
            "_view_module_version": "1.2.0",
            "_view_name": "LayoutView",
            "align_content": null,
            "align_items": null,
            "align_self": null,
            "border": null,
            "bottom": null,
            "display": null,
            "flex": null,
            "flex_flow": null,
            "grid_area": null,
            "grid_auto_columns": null,
            "grid_auto_flow": null,
            "grid_auto_rows": null,
            "grid_column": null,
            "grid_gap": null,
            "grid_row": null,
            "grid_template_areas": null,
            "grid_template_columns": null,
            "grid_template_rows": null,
            "height": null,
            "justify_content": null,
            "justify_items": null,
            "left": null,
            "margin": null,
            "max_height": null,
            "max_width": null,
            "min_height": null,
            "min_width": null,
            "object_fit": null,
            "object_position": null,
            "order": null,
            "overflow": null,
            "overflow_x": null,
            "overflow_y": null,
            "padding": null,
            "right": null,
            "top": null,
            "visibility": null,
            "width": null
          }
        },
        "188b5af0fcb64822aeee3b970f16612a": {
          "model_module": "@jupyter-widgets/base",
          "model_name": "LayoutModel",
          "model_module_version": "1.2.0",
          "state": {
            "_model_module": "@jupyter-widgets/base",
            "_model_module_version": "1.2.0",
            "_model_name": "LayoutModel",
            "_view_count": null,
            "_view_module": "@jupyter-widgets/base",
            "_view_module_version": "1.2.0",
            "_view_name": "LayoutView",
            "align_content": null,
            "align_items": null,
            "align_self": null,
            "border": null,
            "bottom": null,
            "display": null,
            "flex": null,
            "flex_flow": null,
            "grid_area": null,
            "grid_auto_columns": null,
            "grid_auto_flow": null,
            "grid_auto_rows": null,
            "grid_column": null,
            "grid_gap": null,
            "grid_row": null,
            "grid_template_areas": null,
            "grid_template_columns": null,
            "grid_template_rows": null,
            "height": null,
            "justify_content": null,
            "justify_items": null,
            "left": null,
            "margin": null,
            "max_height": null,
            "max_width": null,
            "min_height": null,
            "min_width": null,
            "object_fit": null,
            "object_position": null,
            "order": null,
            "overflow": null,
            "overflow_x": null,
            "overflow_y": null,
            "padding": null,
            "right": null,
            "top": null,
            "visibility": null,
            "width": null
          }
        },
        "78a874100ef048afb79ed037132dbf4f": {
          "model_module": "@jupyter-widgets/controls",
          "model_name": "DescriptionStyleModel",
          "model_module_version": "1.5.0",
          "state": {
            "_model_module": "@jupyter-widgets/controls",
            "_model_module_version": "1.5.0",
            "_model_name": "DescriptionStyleModel",
            "_view_count": null,
            "_view_module": "@jupyter-widgets/base",
            "_view_module_version": "1.2.0",
            "_view_name": "StyleView",
            "description_width": ""
          }
        },
        "81ee614fb0b24500867b76ae6a1ff152": {
          "model_module": "@jupyter-widgets/base",
          "model_name": "LayoutModel",
          "model_module_version": "1.2.0",
          "state": {
            "_model_module": "@jupyter-widgets/base",
            "_model_module_version": "1.2.0",
            "_model_name": "LayoutModel",
            "_view_count": null,
            "_view_module": "@jupyter-widgets/base",
            "_view_module_version": "1.2.0",
            "_view_name": "LayoutView",
            "align_content": null,
            "align_items": null,
            "align_self": null,
            "border": null,
            "bottom": null,
            "display": null,
            "flex": null,
            "flex_flow": null,
            "grid_area": null,
            "grid_auto_columns": null,
            "grid_auto_flow": null,
            "grid_auto_rows": null,
            "grid_column": null,
            "grid_gap": null,
            "grid_row": null,
            "grid_template_areas": null,
            "grid_template_columns": null,
            "grid_template_rows": null,
            "height": null,
            "justify_content": null,
            "justify_items": null,
            "left": null,
            "margin": null,
            "max_height": null,
            "max_width": null,
            "min_height": null,
            "min_width": null,
            "object_fit": null,
            "object_position": null,
            "order": null,
            "overflow": null,
            "overflow_x": null,
            "overflow_y": null,
            "padding": null,
            "right": null,
            "top": null,
            "visibility": null,
            "width": null
          }
        },
        "7958c48a7bae4dfa9669b7cb9015e7c4": {
          "model_module": "@jupyter-widgets/controls",
          "model_name": "ProgressStyleModel",
          "model_module_version": "1.5.0",
          "state": {
            "_model_module": "@jupyter-widgets/controls",
            "_model_module_version": "1.5.0",
            "_model_name": "ProgressStyleModel",
            "_view_count": null,
            "_view_module": "@jupyter-widgets/base",
            "_view_module_version": "1.2.0",
            "_view_name": "StyleView",
            "bar_color": null,
            "description_width": ""
          }
        },
        "720a621c625c4c6086e7eacff3235017": {
          "model_module": "@jupyter-widgets/base",
          "model_name": "LayoutModel",
          "model_module_version": "1.2.0",
          "state": {
            "_model_module": "@jupyter-widgets/base",
            "_model_module_version": "1.2.0",
            "_model_name": "LayoutModel",
            "_view_count": null,
            "_view_module": "@jupyter-widgets/base",
            "_view_module_version": "1.2.0",
            "_view_name": "LayoutView",
            "align_content": null,
            "align_items": null,
            "align_self": null,
            "border": null,
            "bottom": null,
            "display": null,
            "flex": null,
            "flex_flow": null,
            "grid_area": null,
            "grid_auto_columns": null,
            "grid_auto_flow": null,
            "grid_auto_rows": null,
            "grid_column": null,
            "grid_gap": null,
            "grid_row": null,
            "grid_template_areas": null,
            "grid_template_columns": null,
            "grid_template_rows": null,
            "height": null,
            "justify_content": null,
            "justify_items": null,
            "left": null,
            "margin": null,
            "max_height": null,
            "max_width": null,
            "min_height": null,
            "min_width": null,
            "object_fit": null,
            "object_position": null,
            "order": null,
            "overflow": null,
            "overflow_x": null,
            "overflow_y": null,
            "padding": null,
            "right": null,
            "top": null,
            "visibility": null,
            "width": null
          }
        },
        "337711d32bd0449ab026223dd35db445": {
          "model_module": "@jupyter-widgets/controls",
          "model_name": "DescriptionStyleModel",
          "model_module_version": "1.5.0",
          "state": {
            "_model_module": "@jupyter-widgets/controls",
            "_model_module_version": "1.5.0",
            "_model_name": "DescriptionStyleModel",
            "_view_count": null,
            "_view_module": "@jupyter-widgets/base",
            "_view_module_version": "1.2.0",
            "_view_name": "StyleView",
            "description_width": ""
          }
        }
      }
    }
  },
  "cells": [
    {
      "metadata": {
        "id": "BU6-Ftb3b1r8"
      },
      "cell_type": "markdown",
      "source": [
        "# Implementing a Neural Network for CIFAR dataset\n",
        "In this exercise, you should change H.W_1 to work on the CIFAR dataset.\n",
        "\n",
        "CIFAR is a dataset that consists of 60,000 32x32 colour images in 10 classes (airplane, automobile, bird, cat, deer, dog, frog, horse, ship, truck), with 6000 images per class.\n",
        "\n",
        "We will have the same components as were in the previous exercise:\n",
        "- Loading the data and visualize some of the images\n",
        "- Training the model. Instead of loading a pre-trained model, we will define a new very basic architecture.\n"
      ]
    },
    {
      "metadata": {
        "id": "ovTPl1D_b1sB"
      },
      "cell_type": "markdown",
      "source": [
        "## 1) Loading CIFAR dataset (10 points)"
      ]
    },
    {
      "cell_type": "markdown",
      "source": [
        "You should load the CIFAR dataset. You can use [the pytorch CIFAR tutorial](https://pytorch.org/tutorials/beginner/blitz/cifar10_tutorial.html). You should define a dictionary of ``dataloaders``. For now, no need to define pre-process to the data. \n",
        "Please create a dataloaders disctionary ``{'train','val'}``\n",
        "\n",
        "You can use batch_size = 128"
      ],
      "metadata": {
        "id": "3MnBLXdCPtzB"
      }
    },
    {
      "cell_type": "code",
      "source": [
        "import time\n",
        "import copy\n",
        "import torchvision\n",
        "import torch\n",
        "import random\n",
        "import torch.nn as nn\n",
        "import torch.optim as optim\n",
        "import numpy as np\n",
        "from torch.optim import lr_scheduler\n",
        "from torchvision import datasets, models, transforms\n",
        "\n",
        "torch.manual_seed(0)\n",
        "random.seed(0)\n",
        "np.random.seed(0)"
      ],
      "metadata": {
        "id": "bURWoosezxDD"
      },
      "execution_count": null,
      "outputs": []
    },
    {
      "cell_type": "code",
      "execution_count": null,
      "metadata": {
        "id": "1hOx1afMpKl-",
        "outputId": "213ca6f4-ed02-4d28-f935-55dcf7738b1d",
        "colab": {
          "base_uri": "https://localhost:8080/",
          "height": 104,
          "referenced_widgets": [
            "3008cbec07cf4cd1aa47265ad7031ff5",
            "9d1bd10744f74c1e8a8dd087d0de00c8",
            "235017b2a60f435bbb51c36d4814bf83",
            "c7e5bb4c891d49fa9319e062735a2079",
            "69f84417ccff4e75a88403b7b8d2f565",
            "188b5af0fcb64822aeee3b970f16612a",
            "78a874100ef048afb79ed037132dbf4f",
            "81ee614fb0b24500867b76ae6a1ff152",
            "7958c48a7bae4dfa9669b7cb9015e7c4",
            "720a621c625c4c6086e7eacff3235017",
            "337711d32bd0449ab026223dd35db445"
          ]
        }
      },
      "outputs": [
        {
          "output_type": "stream",
          "name": "stdout",
          "text": [
            "Downloading https://www.cs.toronto.edu/~kriz/cifar-10-python.tar.gz to ./data/cifar-10-python.tar.gz\n"
          ]
        },
        {
          "output_type": "display_data",
          "data": {
            "text/plain": [
              "  0%|          | 0/170498071 [00:00<?, ?it/s]"
            ],
            "application/vnd.jupyter.widget-view+json": {
              "version_major": 2,
              "version_minor": 0,
              "model_id": "3008cbec07cf4cd1aa47265ad7031ff5"
            }
          },
          "metadata": {}
        },
        {
          "output_type": "stream",
          "name": "stdout",
          "text": [
            "Extracting ./data/cifar-10-python.tar.gz to ./data\n",
            "Files already downloaded and verified\n"
          ]
        }
      ],
      "source": [
        "BATCH_SIZE = 128\n",
        "\n",
        "transform = transforms.Compose(\n",
        "    [transforms.ToTensor(),\n",
        "     transforms.Normalize((0.5, 0.5, 0.5), (0.5, 0.5, 0.5))])\n",
        "\n",
        "image_set = {\n",
        "        'train': torchvision.datasets.CIFAR10(root='./data', train=True,\n",
        "                                        download=True, transform=transform),\n",
        "        'val': torchvision.datasets.CIFAR10(root='./data', train=False,\n",
        "                                       download=True, transform=transform)}\n",
        "\n",
        "dataloaders = {phase: torch.utils.data.DataLoader(image_set[phase], \n",
        "                                                 batch_size=BATCH_SIZE,\n",
        "                                                 shuffle=phase=='train', \n",
        "                                                 num_workers=2)\n",
        "for phase, data in image_set.items()\n",
        "}\n",
        "CLASSES = image_set['train'].classes\n"
      ]
    },
    {
      "cell_type": "code",
      "source": [
        "dataset_sizes = {phase: len(image_set[phase]) for phase in ['train', 'val']}\n",
        "\n",
        "# Check for the availability of a GPU, and use CPU otherwise\n",
        "device = torch.device(\"cuda:0\" if torch.cuda.is_available() else \"cpu\")\n",
        "device"
      ],
      "metadata": {
        "id": "yRRXBXkvpAwv",
        "outputId": "846ab84c-82b9-479f-91ed-d770d4ee3e74",
        "colab": {
          "base_uri": "https://localhost:8080/"
        }
      },
      "execution_count": null,
      "outputs": [
        {
          "output_type": "execute_result",
          "data": {
            "text/plain": [
              "device(type='cuda', index=0)"
            ]
          },
          "metadata": {},
          "execution_count": 3
        }
      ]
    },
    {
      "cell_type": "markdown",
      "source": [
        "**If you manage to load the CIFAR data correctly, you should run the next three cells and see some of the images.**"
      ],
      "metadata": {
        "id": "4AZrcZPki7A_"
      }
    },
    {
      "cell_type": "markdown",
      "source": [
        "## Visualize some of the training images"
      ],
      "metadata": {
        "id": "sfq03MwaTJSQ"
      }
    },
    {
      "cell_type": "markdown",
      "source": [
        "In this dataset the size of the images are 32x32. \n",
        "\n",
        "It is important to visualize the data in order to see that we load them correctly (maybe we need to divide by 255? should we make channel permutations?) \n",
        "\n",
        "The code below was taken from H.W_1 school solution"
      ],
      "metadata": {
        "id": "A2oILjGNTVhP"
      }
    },
    {
      "cell_type": "code",
      "source": [
        "inputs, classes = next(iter(dataloaders['train']))\n",
        "inputs = inputs[0:16]\n",
        "classes = classes[0:16]"
      ],
      "metadata": {
        "id": "va_zicFdQi92"
      },
      "execution_count": null,
      "outputs": []
    },
    {
      "metadata": {
        "id": "UkqNNRbOb1sF"
      },
      "cell_type": "code",
      "source": [
        "import numpy as np\n",
        "import matplotlib.pyplot as plt\n",
        "def imshow(inp, title=None):\n",
        "    \"\"\"Imshow for Tensor.\"\"\"\n",
        "    inp = inp.numpy().transpose((1, 2, 0))\n",
        "    inp = np.clip(inp, 0, 1)\n",
        "    fig = plt.figure(figsize=(5,3), dpi=300)\n",
        "    plt.imshow(inp)\n",
        "    if title is not None:\n",
        "       plt.title(title, fontsize=5)\n",
        "    plt.pause(0.001)  # pause a bit so that plots are updated"
      ],
      "execution_count": null,
      "outputs": []
    },
    {
      "cell_type": "code",
      "source": [
        "# Make a grid from batch\n",
        "out = torchvision.utils.make_grid(inputs, nrow=8)\n",
        "imshow(out, title='\\n'.join([CLASSES[x] for x in classes]))"
      ],
      "metadata": {
        "id": "P3RLKeR5TiKI",
        "outputId": "c50f0290-f084-4c3f-86f8-86c75a90677d",
        "colab": {
          "base_uri": "https://localhost:8080/",
          "height": 834
        }
      },
      "execution_count": null,
      "outputs": [
        {
          "output_type": "display_data",
          "data": {
            "text/plain": [
              "<Figure size 1500x900 with 1 Axes>"
            ],
            "image/png": "[encoded data removed]"
          },
          "metadata": {
            "needs_background": "light"
          }
        }
      ]
    },
    {
      "metadata": {
        "id": "3hs_Z3Pib1sN"
      },
      "cell_type": "markdown",
      "source": [
        "## A 2-layer Neural Network"
      ]
    },
    {
      "metadata": {
        "id": "HN8tSjQFb1sO"
      },
      "cell_type": "markdown",
      "source": [
        "We will define 2-fully-connected-layer network using Sequential module. We have two hidden layers: the first one has 100 neurons and the second one has 20 neurons. The last layer is the output that has 10 elements.\n",
        "\n",
        "Please pay attention that we take images after flattening (line 15 below)."
      ]
    },
    {
      "metadata": {
        "id": "yNhW2McRb1sP",
        "outputId": "2da29740-0def-4f39-f743-8bebbe58e49b",
        "colab": {
          "base_uri": "https://localhost:8080/"
        }
      },
      "cell_type": "code",
      "source": [
        "class NeuralNetwork(nn.Module):\n",
        "    def __init__(self):\n",
        "        super(NeuralNetwork, self).__init__()\n",
        "        self.flatten = nn.Flatten()\n",
        "        self.linear_relu_stack = nn.Sequential(\n",
        "            nn.Linear(32*32*3, 100),\n",
        "            nn.ReLU(),\n",
        "            nn.Linear(100, 20),\n",
        "            nn.ReLU(),\n",
        "            nn.Linear(20, 10),\n",
        "        )\n",
        "\n",
        "        self.losses = {'train': [], 'val': [] }\n",
        "        self.accuracy = {'train': [], 'val': [] }\n",
        "\n",
        "\n",
        "    def forward(self, x):\n",
        "        x = self.flatten(x)\n",
        "        probs = self.linear_relu_stack(x)\n",
        "        return probs\n",
        "\n",
        "model = NeuralNetwork().to(device)\n",
        "print(model)"
      ],
      "execution_count": null,
      "outputs": [
        {
          "output_type": "stream",
          "name": "stdout",
          "text": [
            "NeuralNetwork(\n",
            "  (flatten): Flatten(start_dim=1, end_dim=-1)\n",
            "  (linear_relu_stack): Sequential(\n",
            "    (0): Linear(in_features=3072, out_features=100, bias=True)\n",
            "    (1): ReLU()\n",
            "    (2): Linear(in_features=100, out_features=20, bias=True)\n",
            "    (3): ReLU()\n",
            "    (4): Linear(in_features=20, out_features=10, bias=True)\n",
            "  )\n",
            ")\n"
          ]
        }
      ]
    },
    {
      "cell_type": "markdown",
      "source": [
        "**Pay attention, when you train a network and change something in the parameters, the data, data loaders, image transform, optimizations and more...you should load the model again so it will start from random weights and not from the last training**.\n",
        "\n",
        "**You should run again the line** ``model = NeuralNetwork().to(device)``"
      ],
      "metadata": {
        "id": "1yLN2disJaYe"
      }
    },
    {
      "cell_type": "markdown",
      "source": [
        "\n",
        "The next two cells (defining the loss and the training loop) were copied from last exercise. \n"
      ],
      "metadata": {
        "id": "h26PigiUkWFk"
      }
    },
    {
      "cell_type": "code",
      "source": [
        "# If a GPU is available, make the model use it\n",
        "model = model.to(device)\n",
        "\n",
        "# For a multi-class problem, you'd usually prefer CrossEntropyLoss()\n",
        "criterion = nn.CrossEntropyLoss()\n",
        "\n",
        "# Use Stochastic Gradient Descent as the optimizer, with a learning rate of 0.0001 and momentum\n",
        "optimizer_ft = optim.SGD(model.parameters(), lr=0.001, momentum=0.9)\n",
        "\n",
        "# Decay LR by a factor of 0.1 every 7 epochs\n",
        "exp_lr_scheduler = lr_scheduler.StepLR(optimizer_ft, step_size=7, gamma=0.1)\n",
        "\n",
        "num_epochs = 10"
      ],
      "metadata": {
        "id": "wXtEcNnKo6Mt"
      },
      "execution_count": null,
      "outputs": []
    },
    {
      "cell_type": "code",
      "source": [
        "def train_model(model, dataloaders, criterion, optimizer, scheduler, num_epochs=25):\n",
        "    since = time.time()\n",
        "\n",
        "    # Init variables that will save info about the best model\n",
        "    best_model_wts = copy.deepcopy(model.state_dict())\n",
        "    best_acc = 0.0\n",
        "\n",
        "    for epoch in range(num_epochs):\n",
        "        print('Epoch {}/{}'.format(epoch, num_epochs - 1))\n",
        "        print('-' * 10)\n",
        "\n",
        "        # Each epoch has a training and validation phase\n",
        "        for phase in ['train', 'val']:\n",
        "            if phase == 'train':\n",
        "                # Set model to training mode. \n",
        "                model.train()  \n",
        "            else:\n",
        "                # Set model to evaluate mode. In evaluate mode, we don't perform backprop and don't need to keep the gradients\n",
        "                model.eval()   \n",
        "\n",
        "            running_loss = 0.0\n",
        "            running_corrects = 0\n",
        "\n",
        "            # Iterate over data\n",
        "            for inputs, labels in dataloaders[phase]:\n",
        "                # Prepare the inputs for GPU/CPU\n",
        "                inputs = inputs.to(device)\n",
        "                labels = labels.to(device)\n",
        "\n",
        "                # zero the parameter gradients\n",
        "                optimizer.zero_grad()\n",
        "\n",
        "                # ===== forward pass ======\n",
        "                with torch.set_grad_enabled(phase=='train'):\n",
        "                    # If we're in train mode, we'll track the gradients to allow back-propagation\n",
        "                    outputs = model(inputs) # apply the model to the inputs. The output is the softmax probability of each class\n",
        "                    _, preds = torch.max(outputs, 1) # \n",
        "                    loss = criterion(outputs, labels)\n",
        "\n",
        "                    # ==== backward pass + optimizer step ====\n",
        "                    # This runs only in the training phase\n",
        "                    if phase == 'train':\n",
        "                        loss.backward() # Perform a step in the opposite direction of the gradient\n",
        "                        optimizer.step() # Adapt the optimizer\n",
        "\n",
        "                # Collect statistics\n",
        "                running_loss += loss.item() * inputs.size(0)\n",
        "                running_corrects += torch.sum(preds == labels.data)\n",
        "                \n",
        "            if phase == 'train':\n",
        "                # Adjust the learning rate based on the scheduler\n",
        "                scheduler.step()  \n",
        "\n",
        "            epoch_loss = running_loss / dataset_sizes[phase]\n",
        "            epoch_acc = running_corrects.double() / dataset_sizes[phase]\n",
        "\n",
        "            model.losses[phase].append(epoch_loss)\n",
        "            model.accuracy[phase].append(epoch_acc.cpu().item())\n",
        "\n",
        "            print(f'{phase} Loss: {epoch_loss:.4f} Acc: {epoch_acc:.4f}')\n",
        "\n",
        "            # Keep the results of the best model so far\n",
        "            if phase == 'val' and epoch_acc > best_acc:\n",
        "                best_acc = epoch_acc\n",
        "                # deepcopy the model\n",
        "                best_model_wts = copy.deepcopy(model.state_dict())\n",
        "\n",
        "        print()\n",
        "\n",
        "    time_elapsed = time.time() - since\n",
        "    print(f'Training complete in {(time_elapsed // 60):.0f}m {(time_elapsed % 60):.0f}s')\n",
        "    print(f'Best val Acc: {best_acc:4f}')\n",
        "\n",
        "    # load best model weights\n",
        "    model.load_state_dict(best_model_wts)\n",
        "    return model"
      ],
      "metadata": {
        "id": "vntk-kp5psrx"
      },
      "execution_count": null,
      "outputs": []
    },
    {
      "cell_type": "code",
      "source": [
        "model = train_model(model, \n",
        "                    dataloaders,\n",
        "                    criterion, \n",
        "                    optimizer_ft, \n",
        "                    exp_lr_scheduler,\n",
        "                    num_epochs=num_epochs)\n"
      ],
      "metadata": {
        "id": "mBSK3TR9pyWs",
        "outputId": "6efe217b-7c19-46e7-ce78-843d3bfaa76c",
        "colab": {
          "base_uri": "https://localhost:8080/"
        }
      },
      "execution_count": null,
      "outputs": [
        {
          "output_type": "stream",
          "name": "stdout",
          "text": [
            "Epoch 0/9\n",
            "----------\n",
            "train Loss: 2.1761 Acc: 0.2163\n",
            "val Loss: 2.0313 Acc: 0.2807\n",
            "\n",
            "Epoch 1/9\n",
            "----------\n",
            "train Loss: 1.9433 Acc: 0.3074\n",
            "val Loss: 1.8683 Acc: 0.3397\n",
            "\n",
            "Epoch 2/9\n",
            "----------\n",
            "train Loss: 1.8286 Acc: 0.3548\n",
            "val Loss: 1.7796 Acc: 0.3720\n",
            "\n",
            "Epoch 3/9\n",
            "----------\n",
            "train Loss: 1.7506 Acc: 0.3818\n",
            "val Loss: 1.7114 Acc: 0.4009\n",
            "\n",
            "Epoch 4/9\n",
            "----------\n",
            "train Loss: 1.6886 Acc: 0.4028\n",
            "val Loss: 1.6588 Acc: 0.4184\n",
            "\n",
            "Epoch 5/9\n",
            "----------\n",
            "train Loss: 1.6405 Acc: 0.4201\n",
            "val Loss: 1.6201 Acc: 0.4341\n",
            "\n",
            "Epoch 6/9\n",
            "----------\n",
            "train Loss: 1.6021 Acc: 0.4328\n",
            "val Loss: 1.5887 Acc: 0.4456\n",
            "\n",
            "Epoch 7/9\n",
            "----------\n",
            "train Loss: 1.5761 Acc: 0.4429\n",
            "val Loss: 1.5814 Acc: 0.4456\n",
            "\n",
            "Epoch 8/9\n",
            "----------\n",
            "train Loss: 1.5718 Acc: 0.4450\n",
            "val Loss: 1.5782 Acc: 0.4460\n",
            "\n",
            "Epoch 9/9\n",
            "----------\n",
            "train Loss: 1.5683 Acc: 0.4471\n",
            "val Loss: 1.5754 Acc: 0.4460\n",
            "\n",
            "Training complete in 2m 31s\n",
            "Best val Acc: 0.446000\n"
          ]
        }
      ]
    },
    {
      "cell_type": "markdown",
      "source": [
        "You can continue after you see your model learns something (the training loss is decreasing)."
      ],
      "metadata": {
        "id": "hhsQNyxbkeOU"
      }
    },
    {
      "cell_type": "markdown",
      "source": [
        "# 2) Losses in Pytorch (10 points)\n",
        "\n",
        "Now that you managed to run the training loop, let's understand the loss definition. PyTorch provides losses such as cross-entropy loss (`nn.CrossEntropyLoss`) that has just been used. You'll usually see the loss assigned to `criterion`. For classification problems such as CIFAR, we use the softmax function to predict class probabilities. With a softmax output, we need to use cross-entropy as the loss. To actually calculate the loss, we first define the criterion, then pass in it the output of your network and the correct labels.\n",
        "\n",
        "*Important note!* Look at [the documentation for `nn.CrossEntropyLoss`](https://pytorch.org/docs/stable/generated/torch.nn.CrossEntropyLoss.html#torch.nn.CrossEntropyLoss),\n",
        "\n",
        "> This criterion combines `nn.LogSoftmax()` and `nn.NLLLoss()` in one single class.\n",
        ">\n",
        "> The input is expected to contain scores for each class.\n",
        "\n",
        "It means that we need to pass in `nn.CrossEntropyLoss` the raw output of our network into, not the output of the softmax function. This raw output is usually called the *logits* or *scores*. We use the logits because softmax gives you probabilities, which will often be very close to zero or one but floating-point numbers can't accurately represent values near zero or one ([read more here](https://docs.python.org/3/tutorial/floatingpoint.html)). It's usually better to avoid doing calculations with probabilities, and generally we use log-probabilities.\n",
        "\n",
        "**Exercise:** Change the network above to output the log-softmax and calculate the loss using the negative log-likelihood loss. Note that for `nn.LogSoftmax` and `F.log_softmax` you'll need to set the `dim` keyword argument appropriately. `dim=0` calculates softmax across the rows, so each column sums to 1, while `dim=1` calculates across the columns so each row sums to 1. Think about what you want the output to be and choose `dim` appropriately.\n"
      ],
      "metadata": {
        "id": "cdlcSnVD3Nw-"
      }
    },
    {
      "cell_type": "code",
      "source": [
        "class NeuralNetworkLogSoftmax(NeuralNetwork):\n",
        "    def __init__(self):\n",
        "        super(NeuralNetworkLogSoftmax, self).__init__()\n",
        "        self.linear_relu_stack.add_module(\"LogSoftmax\", torch.nn.LogSoftmax(dim=1))\n"
      ],
      "metadata": {
        "id": "uvZ58WeyydDu"
      },
      "execution_count": null,
      "outputs": []
    },
    {
      "cell_type": "code",
      "source": [
        "model = NeuralNetworkLogSoftmax().to(device)\n",
        "criterion = nn.NLLLoss()\n",
        "\n",
        "optimizer_ft = optim.SGD(model.parameters(), lr=0.001, momentum=0.9)\n",
        "\n",
        "exp_lr_scheduler = lr_scheduler.StepLR(optimizer_ft, step_size=7, gamma=0.1)\n",
        "\n",
        "num_epochs = 10\n",
        "\n",
        "model = train_model(model, \n",
        "                    dataloaders,\n",
        "                    criterion, \n",
        "                    optimizer_ft, \n",
        "                    exp_lr_scheduler,\n",
        "                    num_epochs=num_epochs)\n"
      ],
      "metadata": {
        "id": "079m95lo5JZ6",
        "colab": {
          "base_uri": "https://localhost:8080/"
        },
        "outputId": "e8f661be-6c3f-460b-b448-508de03821ee"
      },
      "execution_count": null,
      "outputs": [
        {
          "output_type": "stream",
          "name": "stdout",
          "text": [
            "Epoch 0/9\n",
            "----------\n",
            "train Loss: 2.1875 Acc: 0.1862\n",
            "val Loss: 2.0620 Acc: 0.2516\n",
            "\n",
            "Epoch 1/9\n",
            "----------\n",
            "train Loss: 1.9687 Acc: 0.2990\n",
            "val Loss: 1.8871 Acc: 0.3343\n",
            "\n",
            "Epoch 2/9\n",
            "----------\n",
            "train Loss: 1.8398 Acc: 0.3539\n",
            "val Loss: 1.7894 Acc: 0.3713\n",
            "\n",
            "Epoch 3/9\n",
            "----------\n",
            "train Loss: 1.7588 Acc: 0.3792\n",
            "val Loss: 1.7224 Acc: 0.3937\n",
            "\n",
            "Epoch 4/9\n",
            "----------\n",
            "train Loss: 1.7009 Acc: 0.4000\n",
            "val Loss: 1.6732 Acc: 0.4093\n",
            "\n",
            "Epoch 5/9\n",
            "----------\n",
            "train Loss: 1.6555 Acc: 0.4172\n",
            "val Loss: 1.6340 Acc: 0.4234\n",
            "\n",
            "Epoch 6/9\n",
            "----------\n",
            "train Loss: 1.6168 Acc: 0.4304\n",
            "val Loss: 1.6046 Acc: 0.4346\n",
            "\n",
            "Epoch 7/9\n",
            "----------\n",
            "train Loss: 1.5919 Acc: 0.4418\n",
            "val Loss: 1.5965 Acc: 0.4375\n",
            "\n",
            "Epoch 8/9\n",
            "----------\n",
            "train Loss: 1.5878 Acc: 0.4420\n",
            "val Loss: 1.5933 Acc: 0.4388\n",
            "\n",
            "Epoch 9/9\n",
            "----------\n",
            "train Loss: 1.5843 Acc: 0.4433\n",
            "val Loss: 1.5903 Acc: 0.4403\n",
            "\n",
            "Training complete in 2m 26s\n",
            "Best val Acc: 0.440300\n"
          ]
        }
      ]
    },
    {
      "metadata": {
        "id": "lzRkHaYhb1sq"
      },
      "cell_type": "markdown",
      "source": [
        "# 3) Debug the training (15 points)\n",
        "With the default parameters we provided above, you should get a validation accuracy of about 0.2 on the validation set. This isn't very good.\n",
        "\n",
        "One strategy for getting insight into what's wrong is to plot the loss function and the accuracies on the training and validation sets during optimization. \n",
        "\n",
        "**Exersice:** Write this visualization here.\n",
        "(you can copy your solution from last exercies)\n"
      ]
    },
    {
      "cell_type": "code",
      "source": [
        "import pandas as pd\n",
        "\n",
        "DEFAULT_PARAMS = {**dict(lr=0.001, momentum=0.9), **dict(step_size=7, gamma=0.1)}\n",
        "\n",
        "\n",
        "def plot_performance(model, params=DEFAULT_PARAMS):\n",
        "    \n",
        "    fig, axs = plt.subplots(1,2, figsize=(15,5))\n",
        "    fig.suptitle(f'Permormance for params \\n{params}')\n",
        "    pd.DataFrame(model.losses).plot(ax=axs[0]).set(title='Loss per epoch')\n",
        "    pd.DataFrame(model.accuracy).plot(ax=axs[1]).set(title='Accuracy per epoch')\n",
        "\n",
        "\n",
        "plot_performance(model)"
      ],
      "metadata": {
        "id": "u2Bwq6QeD8ee",
        "colab": {
          "base_uri": "https://localhost:8080/",
          "height": 356
        },
        "outputId": "8d432575-194b-41b1-cde6-dc7e9dd479f0"
      },
      "execution_count": null,
      "outputs": [
        {
          "output_type": "display_data",
          "data": {
            "text/plain": [
              "<Figure size 1080x360 with 2 Axes>"
            ],
            "image/png": "[encoded data removed]"
          },
          "metadata": {
            "needs_background": "light"
          }
        }
      ]
    },
    {
      "metadata": {
        "id": "gNP6Ogkxb1sw"
      },
      "cell_type": "markdown",
      "source": [
        "# 4) Tune your hyperparameters (50 points)\n",
        "\n",
        "**What's wrong?**. Looking at the loss above, we see that the loss is decreasing more or less linearly, which seems to suggest that the learning rate may be too low. Moreover, there is no gap between the training and validation accuracy, suggesting that the model we used has low capacity, and that we should increase its size. On the other hand, with a very large model we would expect to see more overfitting, which would manifest itself as a very large gap between the training and validation accuracy. \n",
        "\n",
        "**Tuning**. Tuning the hyperparameters and developing intuition for how they affect the final performance is a large part of using Neural Networks, so we want you to get a lot of practice. Below, you should experiment with different values of the various hyperparameters, including *hidden layer size, learning rate, numer of training epochs, and adding l2 or l1 regularization to the cross entropy loss*. You might also consider tuning the learning rate decay, but you should be able to get good performance using the default value.\n",
        "\n",
        "**Approximate results**. You should be aim to achieve a classification accuracy of greater than 48% on the validation set. Our best network gets over 52% on the validation set.\n",
        "\n",
        "**Experiment**: You goal in this exercise is to get as good of a result on CIFAR-10 as you can, with a fully-connected Neural Network. Feel free implement your own techniques (e.g. PCA to reduce dimensionality, or adding dropout, or adding features to the solver, etc.)."
      ]
    },
    {
      "cell_type": "code",
      "source": [
        "class NeuralNetworkHPT(nn.Module):\n",
        "    def __init__(self, dropout_rate=0.2, hidden_depth=4, layer_pop=100):\n",
        "        super(NeuralNetworkHPT, self).__init__()\n",
        "        self.flatten = nn.Flatten()\n",
        "        \n",
        "        repeating = [\n",
        "            nn.Dropout(dropout_rate),\n",
        "            nn.Linear(layer_pop, layer_pop),\n",
        "            nn.ReLU(),\n",
        "            ] * hidden_depth\n",
        "\n",
        "        self.linear_relu_stack = nn.Sequential(\n",
        "            \n",
        "            nn.Linear(32*32*3, layer_pop),\n",
        "            nn.ReLU(),\n",
        "\n",
        "            *repeating,\n",
        "\n",
        "            nn.Linear(layer_pop , layer_pop // 2),\n",
        "\n",
        "\n",
        "            nn.Linear(layer_pop // 2, 10),\n",
        "        )\n",
        "\n",
        "        self.losses = {'train': [], 'val': [] }\n",
        "        self.accuracy = {'train': [], 'val': [] }\n",
        "\n",
        "\n",
        "    def forward(self, x):\n",
        "        x = self.flatten(x)\n",
        "        probs = self.linear_relu_stack(x)\n",
        "        return probs\n",
        "\n",
        "    "
      ],
      "metadata": {
        "id": "KZq3YyL8gtDw"
      },
      "execution_count": null,
      "outputs": []
    },
    {
      "metadata": {
        "id": "5ITsPTx6b1sz",
        "colab": {
          "base_uri": "https://localhost:8080/",
          "height": 1000
        },
        "outputId": "44350044-1753-4e6b-9e6c-369f28122337"
      },
      "cell_type": "code",
      "source": [
        "DEFAULT_OPTIMIZER = dict(lr=0.001, momentum=0.9)\n",
        "DEFAULT_SCHEDULER = dict(step_size=7, gamma=0.1)\n",
        "DEFAULT_MODEL = dict(dropout_rate=0.2, hidden_depth=4, layer_pop=100)\n",
        "\n",
        "import os, sys\n",
        "from itertools import product\n",
        "\n",
        "\n",
        "def try_some_hyper_stuff(dataloaders, optimizer_params=DEFAULT_OPTIMIZER, scheduler_params=DEFAULT_SCHEDULER,\n",
        "                         model_params=DEFAULT_MODEL ,epochs=10):\n",
        "\n",
        "    model = NeuralNetworkHPT(**model_params).to(device)\n",
        "    criterion = nn.CrossEntropyLoss()\n",
        "\n",
        "    optimizer_ft = optim.SGD(model.parameters(), **optimizer_params)\n",
        "\n",
        "    exp_lr_scheduler = lr_scheduler.StepLR(optimizer_ft, **scheduler_params)\n",
        "    \n",
        "    model = train_model(model, \n",
        "                        dataloaders,\n",
        "                        criterion, \n",
        "                        optimizer_ft, \n",
        "                        exp_lr_scheduler,\n",
        "                        num_epochs=epochs)\n",
        "    print(model_params, optimizer_params)\n",
        "\n",
        "    plot_performance(model, params=dict(**optimizer_params, \n",
        "                                        **model_params,))\n",
        "    \n",
        "    return model\n",
        "\n",
        "learning_rates = [0.005]\n",
        "weight_decays = [1e-5]\n",
        "dropout_rates = [0.2]\n",
        "hidden_depths = [1]\n",
        "layer_pops = [175]\n",
        "\n",
        "for lr, wd, dor, hd, lp in product(learning_rates, weight_decays, dropout_rates, hidden_depths, layer_pops):\n",
        "    params = dict(momentum=0.9, lr=lr, weight_decay=wd)\n",
        "    model_params = dict(dropout_rate=dor, hidden_depth=hd, layer_pop=lp)\n",
        "    try_some_hyper_stuff(dataloaders, epochs=10, optimizer_params=params, model_params=model_params)\n",
        "plt.show()\n",
        "\n",
        "# {'dropout_rate': 0.2, 'hidden_depth': 1, 'layer_pop': 175} {'momentum': 0.9, 'lr': 0.005, 'weight_decay': 1e-05} # 1 layer of narrowing down (//2) (0.5347)"
      ],
      "execution_count": null,
      "outputs": [
        {
          "output_type": "stream",
          "name": "stdout",
          "text": [
            "Epoch 0/9\n",
            "----------\n",
            "train Loss: 2.0172 Acc: 0.2676\n",
            "val Loss: 1.7638 Acc: 0.3652\n",
            "\n",
            "Epoch 1/9\n",
            "----------\n",
            "train Loss: 1.6962 Acc: 0.3934\n",
            "val Loss: 1.5912 Acc: 0.4401\n",
            "\n",
            "Epoch 2/9\n",
            "----------\n",
            "train Loss: 1.5800 Acc: 0.4372\n",
            "val Loss: 1.5044 Acc: 0.4644\n",
            "\n",
            "Epoch 3/9\n",
            "----------\n",
            "train Loss: 1.5021 Acc: 0.4675\n",
            "val Loss: 1.4439 Acc: 0.4888\n",
            "\n",
            "Epoch 4/9\n",
            "----------\n",
            "train Loss: 1.4445 Acc: 0.4896\n",
            "val Loss: 1.4068 Acc: 0.4996\n",
            "\n",
            "Epoch 5/9\n",
            "----------\n",
            "train Loss: 1.3978 Acc: 0.5065\n",
            "val Loss: 1.3846 Acc: 0.5108\n",
            "\n",
            "Epoch 6/9\n",
            "----------\n",
            "train Loss: 1.3619 Acc: 0.5196\n",
            "val Loss: 1.3541 Acc: 0.5192\n",
            "\n",
            "Epoch 7/9\n",
            "----------\n",
            "train Loss: 1.2873 Acc: 0.5461\n",
            "val Loss: 1.3227 Acc: 0.5297\n",
            "\n",
            "Epoch 8/9\n",
            "----------\n",
            "train Loss: 1.2722 Acc: 0.5484\n",
            "val Loss: 1.3189 Acc: 0.5347\n",
            "\n",
            "Epoch 9/9\n",
            "----------\n",
            "train Loss: 1.2624 Acc: 0.5540\n",
            "val Loss: 1.3177 Acc: 0.5340\n",
            "\n",
            "Training complete in 2m 28s\n",
            "Best val Acc: 0.534700\n",
            "{'dropout_rate': 0.2, 'hidden_depth': 1, 'layer_pop': 175} {'momentum': 0.9, 'lr': 0.005, 'weight_decay': 1e-05}\n"
          ]
        },
        {
          "output_type": "display_data",
          "data": {
            "text/plain": [
              "<Figure size 1080x360 with 2 Axes>"
            ],
            "image/png": "[encoded data removed]"
          },
          "metadata": {
            "needs_background": "light"
          }
        }
      ]
    },
    {
      "metadata": {
        "id": "N40TSSK0b1s-"
      },
      "cell_type": "markdown",
      "source": [
        "# Interview Question (15 points)\n",
        "\n",
        "Now that you have trained a Neural Network classifier, you may find that your testing accuracy is lower than the training accuracy. In what ways can we decrease this gap? Select all that apply.\n",
        "1. Train on a larger dataset.\n",
        "2. Add more hidden units.\n",
        "3. Increase the regularization strength.\n",
        "4. None of the above.\n",
        "\n",
        "*Your answer*: \n",
        "\n",
        "> 1, 3\n",
        "\n",
        "*Your explanation:*\n",
        "\n",
        "> 1. The training data doesn't fully capture the complexity of the real world, as represented by the testing data. In that case, adding more data could help cover cases that are not sufficiently represented at the moment. \n",
        "> 2. Model overfits, adding more hidden units will enable more overfitting.\n",
        "> 3. The model overfits, meaning it learned the training data too closely and now fails to generalize. In this case, regularization could help. \n",
        "\n",
        ">"
      ]
    }
  ]
}