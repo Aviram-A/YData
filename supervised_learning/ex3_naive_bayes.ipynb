{
 "cells": [
  {
   "cell_type": "markdown",
   "metadata": {
    "id": "Uq_3t_tluNmU"
   },
   "source": [
    "# Naive Bayes"
   ]
  },
  {
   "cell_type": "markdown",
   "metadata": {
    "id": "TQVMUZkQHlm2"
   },
   "source": [
    "## 1. Classifying Digits\n",
    "In this part we will test digits classification on the MNIST dataset, using Bernoulli Naive Bayes (a generative model).\n",
    "\n",
    "The MNIST dataset contains 28x28 grayscale images of handwritten digits between 0 and 9 (10 classes). For mathmatical analysis clarity, and for matching expected API, flatten each image to create a 1D array with 784 elements."
   ]
  },
  {
   "cell_type": "markdown",
   "metadata": {
    "id": "Cjwjk6pzLE-y"
   },
   "source": [
    "### Loading the MNIST dataset\n",
    "Load the MNIST data set. The digits dataset is one of datasets scikit-learn comes with that do not require the downloading of any file from some external website. Use \n",
    ">```\n",
    "from sklearn.datasets import fetch_openml\n",
    "X, y = fetch_openml('mnist_784', version=1, return_X_y=True)\n",
    "```\n",
    "\n",
    "Plot a single sample of each digit as the original image, so you get a feeling how the data looks like.\n",
    "\n",
    "Finally, divide your data into train and test sets, using 1/7 of the data for testing.\n"
   ]
  },
  {
   "cell_type": "code",
   "execution_count": 2,
   "metadata": {
    "tags": []
   },
   "outputs": [
    {
     "data": {
      "image/png": "[encoded data removed]",
      "text/plain": [
       "<Figure size 640x480 with 10 Axes>"
      ]
     },
     "metadata": {},
     "output_type": "display_data"
    }
   ],
   "source": [
    "from sklearn.datasets import fetch_openml\n",
    "import matplotlib.pyplot as plt\n",
    "DIMS = (28,28)\n",
    "try:\n",
    "    X, y = fetch_openml('mnist_784', version=1, return_X_y=True, parser='auto')\n",
    "except:\n",
    "    X, y = fetch_openml('mnist_784', version=1, return_X_y=True)\n",
    "\n",
    "sample = y.groupby(y).sample(1).index\n",
    "fig, axs = plt.subplots(2,5)\n",
    "for ax, s in zip(axs.flatten(), sample):\n",
    "    label = y.loc[s]\n",
    "    img = X.loc[s].values.reshape(DIMS)\n",
    "    ax.set_title(f'Sample image for {label}', fontsize=8)\n",
    "    ax.get_xaxis().set_visible(False)\n",
    "    ax.get_yaxis().set_visible(False)\n",
    "    ax.imshow(img, cmap='gray')\n",
    "    \n",
    "fig.tight_layout()"
   ]
  },
  {
   "cell_type": "code",
   "execution_count": 3,
   "metadata": {},
   "outputs": [],
   "source": [
    "from sklearn.model_selection import train_test_split\n",
    "\n",
    "X_train, X_test, y_train, y_test = train_test_split(X, y, test_size=1/7)"
   ]
  },
  {
   "cell_type": "markdown",
   "metadata": {
    "id": "WTGjjSKaFfE6"
   },
   "source": [
    "### Bernoulli Naive Bayes\n",
    "If we know how the digits are generated, then we know how to classify them (simply choose the digit class which will maximize the posterior probability) --- but which model should we use for describing the digits generation?\n",
    "\n",
    "In this part we will try a very simplified model of digits creation (which is obviously not the same as the \"real\" model), using a Naive Bayes over an underlying Bernoulli distribution --- that is, we will assume that given a digit class, the pixels of the images are the result of independent coin flips, each with its own \"head\" probability.\n",
    "\n",
    "Note that since we assume each pixl is either 0 (black) or 1 (white), we will need to adjust (preprocess) our data accrodingly (see below).\n",
    "\n",
    "So, the model is stated as follows:\n",
    "$$\n",
    "\\begin{align}\n",
    "\\text{Domain} && x \\in \\{0,1\\}^{784} \\\\\n",
    "\\text{Prior} && \\pi_j = \\Pr(y=j) \\\\\n",
    "\\text{Likelihood} && P_j(x) = \\Pr(x | y=j) \\\\\n",
    "\\end{align}\n",
    "$$\n",
    "\n",
    "Where for each $i\\in 0\\ldots 784$ it holds that\n",
    "$$\n",
    "P_{ji}(x_i) = \\Pr(x_i | y=j) =\n",
    "\\begin{cases}\n",
    "p_{ji} & \\text{if } x_i=1 \\\\\n",
    "1-p_{ji} & \\text{if } x_i=0 \\\\\n",
    "\\end{cases}\n",
    "$$\n"
   ]
  },
  {
   "cell_type": "markdown",
   "metadata": {
    "id": "WNjhD3IpL5bC"
   },
   "source": [
    "#### Question 1\n",
    "Write the classification rule based on this Naive Bayes model. \n",
    "How would you esitmate each of the parameters of the model based on the trainning data? \n",
    "\n",
    "\n",
    "**Bonus:** Think of edge cases which may effect your estimator in an undesired way."
   ]
  },
  {
   "attachments": {},
   "cell_type": "markdown",
   "metadata": {
    "id": "0pN1prGcMqwZ"
   },
   "source": [
    "#### Answer 1\n",
    "i is the specific pixel.\n",
    "\n",
    "j is the digit label\n",
    "\n",
    "For an arbitrary sample $x$, our classification rule is:\n",
    "\n",
    "$\\hat{y} = argmax_y P(y|x) = argmax_j \\frac{P(x|y=j) * P(y=j)}{P(x)} = argmax_j \\prod_i \\frac{P(x_i|y=j)*P(y=j)}{P(x)}= argmax_y \\prod_i \\frac{P(y=j) * (p_{ji}*x_i + (1-p_{ji})(1-x_i))}{P(x)}$\n",
    "\n",
    "Where $p_{ji}$'s definition is given above . \n",
    "\n",
    "Parameters:\n",
    "\n",
    "Prior = $P(y=j) = \\frac{\\text{count of docs of class y}}{\\text{total docs count}}$\n",
    "\n",
    "Evidence = $ P(x_i) = \\frac{\\text{count of word i in all documents}}{\\text{count of all words in all doccuments}}$\n",
    "\n",
    "Likelihood = $ P(x_i|y) = \\frac{\\text{count of word i in documents of type y +} \\lambda}{\\text{count of all words in document of type y} + \\lambda * \\text{Number of words in vocaculary}}$\n",
    "\n",
    "where $\\lambda$ is a smoothing constant used to make sure that every word is represented in each type of document. That way, the product of probabilities won't turn out it be 0, regardless of the probabilities of other, non-missing, words) "
   ]
  },
  {
   "cell_type": "markdown",
   "metadata": {
    "id": "nOnkgDIXTMCQ"
   },
   "source": [
    "#### Question 2\n",
    "Run a Naive Bayes classifier on the training data and apply predictions on the test data. Use the [sklearn.naive_bayes.BernoulliNB](http://scikit-learn.org/stable/modules/generated/sklearn.naive_bayes.BernoulliNB.html) implementation (see the [source code for sklearn.naive_bayes](https://github.com/scikit-learn/scikit-learn/blob/master/sklearn/naive_bayes.py) for details).\n",
    "\n",
    "Remember we need to preprocess the data in this case such that each pixel would become either black (0) or white (1). For this, use the `binarize` parameter of the implementation. Set this value to $0$ (this is the default), which in this case would mean every pixel with non-zero value will be set to 1.\n",
    "\n",
    "1. Plot the mean image of each class (estimated $\\hat{p}_{ji}$) and generate one sample of each class (remember, you can do this since this is a generative model). You will need to access the `feature_log_prob_` attribute of the trained model.\n",
    "\n",
    "2. Plot the confusion matrix of your classifier, as claculated on the test data (it is recommended to use [sklearn.metrics.confusion_matrix](http://scikit-learn.org/stable/modules/generated/sklearn.metrics.confusion_matrix.html)). Calculate the total accuracy (fraction of correctly classified images), and summarize the results in your own words.\n",
    "\n",
    "3. Think of a way you can find the optimal threshold of the binarization part. **There is no need to actually perform this task --- just describe what you would have done.**\n"
   ]
  },
  {
   "cell_type": "markdown",
   "metadata": {
    "id": "ZKdsdegDWaO_"
   },
   "source": [
    "#### Answer 2\n",
    "Put you answer here..."
   ]
  },
  {
   "cell_type": "code",
   "execution_count": 4,
   "metadata": {
    "id": "XalqjRWXWS-Y"
   },
   "outputs": [
    {
     "data": {
      "image/png": "[encoded data removed]",
      "text/plain": [
       "<Figure size 640x480 with 10 Axes>"
      ]
     },
     "metadata": {},
     "output_type": "display_data"
    }
   ],
   "source": [
    "from sklearn.naive_bayes import BernoulliNB\n",
    "import numpy as np\n",
    "\n",
    "nb = BernoulliNB(binarize=True).fit(X_train,y_train)\n",
    "fig, axs = plt.subplots(2,5)\n",
    "\n",
    "probs = np.exp(nb.feature_log_prob_)\n",
    "for ax, digit in zip(axs.ravel(), range(nb.feature_log_prob_.shape[0])):\n",
    "    ax.imshow(probs[digit].reshape(DIMS), cmap='gray')\n",
    "fig.suptitle('Mean Image per class');"
   ]
  },
  {
   "cell_type": "code",
   "execution_count": 5,
   "metadata": {},
   "outputs": [
    {
     "data": {
      "image/png": "[encoded data removed]",
      "text/plain": [
       "<Figure size 640x480 with 10 Axes>"
      ]
     },
     "metadata": {},
     "output_type": "display_data"
    }
   ],
   "source": [
    "fig, axs = plt.subplots(2,5)\n",
    "\n",
    "generated_sample = np.random.binomial(1, probs)\n",
    "for ax, digit in zip(axs.ravel(), range(nb.feature_log_prob_.shape[0])):\n",
    "    ax.imshow(generated_sample[digit].reshape(DIMS), cmap='gray')\n",
    "fig.suptitle('Generated image per class');"
   ]
  },
  {
   "cell_type": "code",
   "execution_count": 6,
   "metadata": {},
   "outputs": [
    {
     "name": "stdout",
     "output_type": "stream",
     "text": [
      "[[ 908    2   10    8    2   53   16    0   19    2]\n",
      " [   0 1097   11    3    1   11    4    0   18    1]\n",
      " [  17   15  834   27   17    3   29   12   43    4]\n",
      " [   4   27   33  808    2   26    6   21   48   32]\n",
      " [   8    8    9    0  739    3   11    0   24  125]\n",
      " [  28   13    2  164   28  619   19    3   27   27]\n",
      " [  17   27   12    1   11   29  904    0    6    0]\n",
      " [   5   24   12    3   30    3    0  849   20   76]\n",
      " [  10   37   19   79   11   31    1    0  732   41]\n",
      " [  13   20    4   15   65    2    0   33   34  793]]\n",
      " Total accuracy: 0.8283\n"
     ]
    }
   ],
   "source": [
    "from sklearn.metrics import confusion_matrix\n",
    "import seaborn as sns\n",
    "import numpy as np\n",
    "confusion = confusion_matrix(y_test, nb.predict(X_test), labels=y_test.cat.categories)\n",
    "print(confusion)\n",
    "print(f' Total accuracy: {confusion.trace() / y_test.shape[0]}')"
   ]
  },
  {
   "attachments": {},
   "cell_type": "markdown",
   "metadata": {},
   "source": [
    "After looking at the plot in the next cell, I thought that an interesting approach would be to train a 1-level decision tree classifier for each pixel (or several, via one vs all etc), where the label is the digit. The split suggested by each tree would be one that does a good job at seperating the trees to two relatively pure groups, which is what we're after. So for instance for the pixel in the plot below, classes with high variance like 2,3,5 would be ignored, and a decent split would probably be somewhere around 75.  \n",
    "It might be too computationally expensive though, so another option is to just take the median value for every class, and take the median of those as a threshold. Do this for every pixel."
   ]
  },
  {
   "cell_type": "code",
   "execution_count": 7,
   "metadata": {},
   "outputs": [
    {
     "data": {
      "text/plain": [
       "<AxesSubplot:xlabel='class', ylabel='pixel210'>"
      ]
     },
     "execution_count": 7,
     "metadata": {},
     "output_type": "execute_result"
    },
    {
     "data": {
      "image/png": "[encoded data removed]",
      "text/plain": [
       "<Figure size 640x480 with 1 Axes>"
      ]
     },
     "metadata": {},
     "output_type": "display_data"
    }
   ],
   "source": [
    "sns.boxplot(y=X_train['pixel210'], x=y_train)"
   ]
  },
  {
   "cell_type": "markdown",
   "metadata": {
    "id": "lKSgnectrTJ1"
   },
   "source": [
    "## 2. Classifing Text Documents using Multinomial Naive Bayes\n",
    "In this exercise you will classify the \"20 newsgroups\" data set using your own naive bayes classifier and compare to the scikit learn built in version.\n",
    "\n",
    "The 20 newsgroups dataset comprises around 18000 newsgroups posts on 20 topics split in two subsets: one for training (or development) and the other one for testing (or for performance evaluation). The split between the train and test set is based upon messages posted before and after a specific date.\n",
    "\n",
    "\n",
    "* Load the **train** data using `from sklearn.datasets import fetch_20newsgroups`. remove headers, footers and quotes (see documentation)\n",
    "* Use `sklearn.feature_extraction.text import CountVectorizer` to count words (stop_words='english')\n",
    "* Write a class `NaiveBayes(BaseEstimator, ClassifierMixin)` and implement its `fit`, `predict` and `predict_proba` methods.\n",
    "* use `sklearn.pipeline.make_pipeline` to chain the vectroizer and model.\n",
    "* note: limit the vocuabolary size if you suffer memory issues\n",
    "* compare the accuracy over the **test** data. You can use `accuracy_score, classification_report`\n",
    "* compare to the built in `sklearn.naive_bayes.MultinomialNB`. If there are differences try to think why\n",
    "* optimize performance in respect to vectorizer hyper parameters (e.g. max_features, max_df etc.).\n",
    "\n",
    "### Optional: Model interpretability\n",
    "Find the most important features for a **specific** decision of a NB classifier.\n",
    "Because the model has learned the prior $p(x_i|c)$ during the training, the contribution of an individual feature value can be easily measured by the posterior, $p(c|x_i)=p(c)p(x_i|c)/p(x_i)$\n",
    "Implement a function which gets a scikit-learn NB model as input and returns $P(c|x_i)$:\n",
    "\n",
    "`def calc_p_c_given_xi(model)`\n",
    "\n",
    "Hint: Use the following model properties:\n",
    "\n",
    "* `model.class_log_prior_`\n",
    "* `model.feature_log_prob_`\n",
    "\n",
    "Note: remember these are logs and you need to use np.exp and normalize to get $P(c|x_i)$ \n",
    "Another hint: use numpy built-in broadcasting property.\n",
    "\n",
    "* Use the interpretation to examine errors of the classifier where $\\hat{c}\\ne c$. Which top words support the correct class and which support the wrong class? You can use the `print_txt` below to color words. \n",
    "\n",
    "Bonus: How can you correct the analyzed error? \n",
    "\n",
    "To read more about model interpretation, see the blogpost below and my tutorial:\n",
    "* https://lilianweng.github.io/lil-log/2017/08/01/how-to-explain-the-prediction-of-a-machine-learning-model.html\n",
    "* https://github.com/chanansh/right_but_why"
   ]
  },
  {
   "cell_type": "code",
   "execution_count": 8,
   "metadata": {},
   "outputs": [],
   "source": [
    "from sklearn.datasets import fetch_20newsgroups\n",
    "from sklearn.feature_extraction.text import CountVectorizer\n",
    "from sklearn.pipeline import make_pipeline\n",
    "from sklearn.metrics import accuracy_score, classification_report\n",
    "from sklearn.naive_bayes import MultinomialNB\n",
    "from sklearn.model_selection import GridSearchCV\n",
    "from sklearn.base import BaseEstimator, ClassifierMixin\n",
    "\n",
    "X_train, y_train = fetch_20newsgroups(subset='train', remove=('headers','footers','quotes'), return_X_y=True)\n",
    "X_test, y_test = fetch_20newsgroups(subset='test', remove=('headers','footers','quotes'), return_X_y=True)"
   ]
  },
  {
   "cell_type": "code",
   "execution_count": 9,
   "metadata": {
    "colab": {
     "base_uri": "https://localhost:8080/",
     "height": 35
    },
    "id": "WrTOhkHV9msW",
    "outputId": "c69cb41c-5ed6-4e43-ef3f-6ccaa4980c1d"
   },
   "outputs": [
    {
     "name": "stdout",
     "output_type": "stream",
     "text": [
      "This \u001b[42;37mword\u001b[0m support the first class but this the \u001b[41;37mother\u001b[0m\n"
     ]
    }
   ],
   "source": [
    "import string\n",
    "def print_txt(txt, hot, cold):\n",
    "  \"\"\"\n",
    "  print the text, coloring hot and cold words with colors\n",
    "  \"\"\"\n",
    "  cold_color='\\x1b[41;37m{}\\x1b[0m'\n",
    "  hot_color='\\x1b[42;37m{}\\x1b[0m'\n",
    "  def color(token):\n",
    "    lower = str(token).lower()\n",
    "    lower = lower.replace('\\t','').replace('\\n','')\n",
    "    lower = lower.translate(string.punctuation)\n",
    "    if (lower in hot) and (lower in cold):\n",
    "      return mid_color.format(token)\n",
    "    elif lower in hot:\n",
    "      return hot_color.format(token)\n",
    "    elif lower in cold:\n",
    "      return cold_color.format(token)\n",
    "    else:\n",
    "      return token\n",
    "  colored_txt = \" \".join([color(token) for token in txt.split(' ')])\n",
    "  print(colored_txt)\n",
    "print_txt('This word support the first class but this the other', ['word'],['other'])"
   ]
  },
  {
   "cell_type": "code",
   "execution_count": 10,
   "metadata": {
    "id": "FEbVc4Ixxe6L"
   },
   "outputs": [],
   "source": [
    "from itertools import zip_longest\n",
    "\n",
    "class NaiveBayes(BaseEstimator, ClassifierMixin):\n",
    "    \n",
    "    def __init__(self, alpha=1):\n",
    "        self.alpha = alpha\n",
    "\n",
    "    def fit(self, x, y):\n",
    "        \n",
    "        n,d = x.shape\n",
    "        \n",
    "        s = np.argsort(y)\n",
    "        classes, bins, counts = np.unique(y[s], return_index=True, return_counts=True)\n",
    "        \n",
    "        c = len(classes)\n",
    "        \n",
    "        self.log_prior = np.log(counts / counts.sum())[np.newaxis, :]\n",
    "        x = x[s]\n",
    "        x_per_label = [x[start:end] for start, end in zip_longest(bins, bins[1:], fillvalue=n)]\n",
    "\n",
    "        self.log_x_given_y = np.zeros((d, c))\n",
    "        for l, xl in zip(classes, x_per_label):\n",
    "            self.log_x_given_y[:, l] = np.asarray(xl.sum(axis=0))\n",
    "        \n",
    "        # smoothening\n",
    "        self.log_x_given_y += self.alpha\n",
    "\n",
    "        self.log_evidence = np.log(self.log_x_given_y).sum(axis=1) / np.log(self.log_x_given_y).sum()\n",
    "\n",
    "        self.log_x_given_y /= self.log_x_given_y.sum(axis=0, keepdims=True) + d * self.alpha\n",
    "        \n",
    "        \n",
    "        self.log_x_given_y_comp = 1 - self.log_x_given_y \n",
    "\n",
    "        np.log(self.log_x_given_y, out=self.log_x_given_y)\n",
    "        np.log(self.log_x_given_y_comp, out=self.log_x_given_y_comp) \n",
    "        return self\n",
    "\n",
    "    def _unnormalized_log_proba(self, x):\n",
    "        pos = x @ self.log_x_given_y\n",
    "        neg = (1-x.toarray()) @ self.log_x_given_y_comp  # I assume binary input\n",
    "        return (pos + neg + self.log_prior)\n",
    "\n",
    "    def predict_log_proba(self, x):\n",
    "        return self._unnormalized_log_proba(x) - self.log_evidence\n",
    "\n",
    "    def predict(self, x):\n",
    "        return self._unnormalized_log_proba(x).argmax(axis=1) "
   ]
  },
  {
   "cell_type": "code",
   "execution_count": 45,
   "metadata": {},
   "outputs": [
    {
     "name": "stdout",
     "output_type": "stream",
     "text": [
      "Accuracy: 0.6056824216675518\n",
      "              precision    recall  f1-score   support\n",
      "\n",
      "           0       0.75      0.10      0.18       319\n",
      "           1       0.71      0.56      0.63       389\n",
      "           2       0.77      0.14      0.24       394\n",
      "           3       0.54      0.69      0.61       392\n",
      "           4       0.85      0.47      0.61       385\n",
      "           5       0.57      0.83      0.67       395\n",
      "           6       0.83      0.72      0.77       390\n",
      "           7       0.88      0.62      0.72       396\n",
      "           8       0.49      0.60      0.54       398\n",
      "           9       0.95      0.68      0.80       397\n",
      "          10       0.89      0.89      0.89       399\n",
      "          11       0.38      0.80      0.52       396\n",
      "          12       0.74      0.39      0.51       393\n",
      "          13       0.82      0.75      0.78       396\n",
      "          14       0.66      0.76      0.71       394\n",
      "          15       0.37      0.92      0.52       398\n",
      "          16       0.54      0.61      0.57       364\n",
      "          17       0.52      0.84      0.64       376\n",
      "          18       0.69      0.35      0.47       310\n",
      "          19       0.62      0.02      0.04       251\n",
      "\n",
      "    accuracy                           0.61      7532\n",
      "   macro avg       0.68      0.59      0.57      7532\n",
      "weighted avg       0.68      0.61      0.59      7532\n",
      "\n"
     ]
    }
   ],
   "source": [
    "from sklearn.metrics import classification_report\n",
    "me = make_pipeline(CountVectorizer(stop_words='english', binary=True), NaiveBayes()).fit(X_train, y_train)\n",
    "y_pred = me.predict(X_test)\n",
    "print(f'Accuracy: {accuracy_score(y_test, y_pred)}')\n",
    "print(classification_report(y_test, y_pred))"
   ]
  },
  {
   "cell_type": "code",
   "execution_count": 46,
   "metadata": {},
   "outputs": [
    {
     "name": "stdout",
     "output_type": "stream",
     "text": [
      "Accuracy: 0.6245353159851301\n",
      "              precision    recall  f1-score   support\n",
      "\n",
      "           0       0.71      0.15      0.24       319\n",
      "           1       0.67      0.60      0.63       389\n",
      "           2       0.82      0.09      0.16       394\n",
      "           3       0.53      0.74      0.62       392\n",
      "           4       0.81      0.54      0.64       385\n",
      "           5       0.58      0.83      0.68       395\n",
      "           6       0.83      0.73      0.77       390\n",
      "           7       0.84      0.66      0.74       396\n",
      "           8       0.90      0.61      0.73       398\n",
      "           9       0.94      0.72      0.82       397\n",
      "          10       0.58      0.92      0.71       399\n",
      "          11       0.44      0.79      0.57       396\n",
      "          12       0.73      0.43      0.54       393\n",
      "          13       0.83      0.76      0.79       396\n",
      "          14       0.68      0.77      0.72       394\n",
      "          15       0.38      0.92      0.54       398\n",
      "          16       0.56      0.66      0.60       364\n",
      "          17       0.59      0.82      0.69       376\n",
      "          18       0.63      0.39      0.48       310\n",
      "          19       0.54      0.03      0.05       251\n",
      "\n",
      "    accuracy                           0.62      7532\n",
      "   macro avg       0.68      0.61      0.59      7532\n",
      "weighted avg       0.68      0.62      0.60      7532\n",
      "\n"
     ]
    }
   ],
   "source": [
    "sk = make_pipeline(CountVectorizer(stop_words='english', binary=True), MultinomialNB()).fit(X_train, y_train)\n",
    "y_pred = sk.predict(X_test)\n",
    "print(f'Accuracy: {accuracy_score(y_test, y_pred)}')\n",
    "print(classification_report(y_test, y_pred))"
   ]
  },
  {
   "cell_type": "code",
   "execution_count": 52,
   "metadata": {},
   "outputs": [
    {
     "name": "stdout",
     "output_type": "stream",
     "text": [
      "Fitting 2 folds for each of 36 candidates, totalling 72 fits\n"
     ]
    },
    {
     "name": "stderr",
     "output_type": "stream",
     "text": [
      "c:\\Program Files\\Anaconda3\\envs\\py4dp\\lib\\site-packages\\sklearn\\model_selection\\_search.py:953: UserWarning: One or more of the test scores are non-finite: [0.19630546 0.19630546 0.10677037 0.10677037 0.61649284        nan\n",
      " 0.19630546 0.19630546 0.10677037 0.10677037 0.61649284        nan\n",
      " 0.19630546 0.19630546 0.10677037 0.10677037 0.61649284        nan\n",
      " 0.30316422 0.30316422 0.20205056 0.20205056 0.50291674 0.50291674\n",
      " 0.30130811 0.30130811 0.20284603 0.20284603 0.48957044 0.48957044\n",
      " 0.30130811 0.30130811 0.20284603 0.20284603 0.48957044 0.48957044]\n",
      "  warnings.warn(\n"
     ]
    }
   ],
   "source": [
    "from sklearn.model_selection import GridSearchCV\n",
    "from nltk.corpus import stopwords\n",
    "\n",
    "from nltk.stem.snowball import EnglishStemmer\n",
    "\n",
    "stemmer = EnglishStemmer()\n",
    "analyzer = CountVectorizer().build_analyzer()\n",
    "\n",
    "def stemmed_words(doc):\n",
    "    return (stemmer.stem(w) for w in analyzer(doc))\n",
    "\n",
    "params = {'countvectorizer__ngram_range': [(1,1),(1,2)],\n",
    "          'countvectorizer__binary': [True],\n",
    "          'countvectorizer__max_df':[0.5, 0.9, 1.0],\n",
    "          'countvectorizer__min_df':[0.05, 0.1, 1],\n",
    "          'countvectorizer__stop_words':['english'],\n",
    "          'countvectorizer__analyzer':['word', stemmed_words],\n",
    "          }\n",
    "grid = GridSearchCV(me, params, n_jobs=-1, cv=2, verbose=1).fit(X_train, y_train)"
   ]
  },
  {
   "cell_type": "code",
   "execution_count": 53,
   "metadata": {},
   "outputs": [
    {
     "data": {
      "text/plain": [
       "0.6056824216675518"
      ]
     },
     "execution_count": 53,
     "metadata": {},
     "output_type": "execute_result"
    }
   ],
   "source": [
    "accuracy_score(y_test,grid.predict(X_test))"
   ]
  },
  {
   "cell_type": "code",
   "execution_count": 54,
   "metadata": {},
   "outputs": [
    {
     "data": {
      "text/plain": [
       "{'countvectorizer__analyzer': 'word',\n",
       " 'countvectorizer__binary': True,\n",
       " 'countvectorizer__max_df': 0.5,\n",
       " 'countvectorizer__min_df': 1,\n",
       " 'countvectorizer__ngram_range': (1, 1),\n",
       " 'countvectorizer__stop_words': 'english'}"
      ]
     },
     "execution_count": 54,
     "metadata": {},
     "output_type": "execute_result"
    }
   ],
   "source": [
    "grid.best_params_"
   ]
  },
  {
   "attachments": {},
   "cell_type": "markdown",
   "metadata": {},
   "source": [
    "Not sure why, but the best params get an identical score to the default params, although the grid serach does pick others."
   ]
  },
  {
   "cell_type": "code",
   "execution_count": null,
   "metadata": {},
   "outputs": [],
   "source": []
  }
 ],
 "metadata": {
  "colab": {
   "provenance": []
  },
  "kernelspec": {
   "display_name": "py4dp",
   "language": "python",
   "name": "python3"
  },
  "language_info": {
   "codemirror_mode": {
    "name": "ipython",
    "version": 3
   },
   "file_extension": ".py",
   "mimetype": "text/x-python",
   "name": "python",
   "nbconvert_exporter": "python",
   "pygments_lexer": "ipython3",
   "version": "3.8.15 (default, Nov 24 2022, 14:38:14) [MSC v.1916 64 bit (AMD64)]"
  },
  "vscode": {
   "interpreter": {
    "hash": "97b05faad1369eaa212dc035b6efe25f65504045c319a02076bb947b2888a741"
   }
  }
 },
 "nbformat": 4,
 "nbformat_minor": 4
}
